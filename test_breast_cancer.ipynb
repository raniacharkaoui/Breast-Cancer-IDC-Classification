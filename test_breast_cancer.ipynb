{
  "nbformat": 4,
  "nbformat_minor": 0,
  "metadata": {
    "colab": {
      "name": "test_breast_cancer.ipynb",
      "provenance": [],
      "collapsed_sections": []
    },
    "kernelspec": {
      "name": "python3",
      "display_name": "Python 3"
    },
    "accelerator": "GPU"
  },
  "cells": [
    {
      "cell_type": "code",
      "metadata": {
        "id": "7fJwAP0EDHR5"
      },
      "source": [
        "%tensorflow_version 2.x"
      ],
      "execution_count": null,
      "outputs": []
    },
    {
      "cell_type": "code",
      "metadata": {
        "colab": {
          "base_uri": "https://localhost:8080/"
        },
        "id": "FyYL9PCsDKWp",
        "outputId": "27908ff7-28fc-4d4e-80f1-3143495ade99"
      },
      "source": [
        "import tensorflow as tf\n",
        "if tf.test.gpu_device_name():\n",
        "  print('Default GPU Device:{}'.format(tf.test.gpu_device_name()))\n",
        "else:\n",
        "  print(\"Please install GPU version of TF\")"
      ],
      "execution_count": null,
      "outputs": [
        {
          "output_type": "stream",
          "text": [
            "Default GPU Device:/device:GPU:0\n"
          ],
          "name": "stdout"
        }
      ]
    },
    {
      "cell_type": "code",
      "metadata": {
        "id": "xGcGbmikDCwa"
      },
      "source": [
        "import numpy as np\n",
        "import matplotlib.pylab as plt\n",
        "import itertools\n",
        "import sklearn\n",
        "from sklearn import model_selection\n",
        "from sklearn.model_selection import train_test_split, KFold, cross_val_score, StratifiedKFold, learning_curve, GridSearchCV\n",
        "from sklearn.metrics import confusion_matrix, make_scorer, accuracy_score\n",
        "from sklearn.linear_model import LogisticRegression\n",
        "from sklearn.tree import DecisionTreeClassifier\n",
        "from sklearn.neighbors import KNeighborsClassifier\n",
        "from sklearn.discriminant_analysis import LinearDiscriminantAnalysis\n",
        "from sklearn.naive_bayes import GaussianNB\n",
        "from sklearn.svm import SVC, LinearSVC\n",
        "from sklearn.ensemble import RandomForestClassifier, GradientBoostingClassifier\n",
        "import keras\n",
        "from keras import backend as K\n",
        "from keras.callbacks import Callback, EarlyStopping, ReduceLROnPlateau, ModelCheckpoint\n",
        "from keras.preprocessing.image import ImageDataGenerator\n",
        "from keras.utils.np_utils import to_categorical\n",
        "from keras.models import Sequential, model_from_json\n",
        "from keras.optimizers import SGD, RMSprop, Adam, Adagrad, Adadelta\n",
        "from keras.layers import Dense, Dropout, Activation, Flatten, BatchNormalization, Conv2D, MaxPool2D, MaxPooling2D\n",
        "%matplotlib inline"
      ],
      "execution_count": null,
      "outputs": []
    },
    {
      "cell_type": "code",
      "metadata": {
        "colab": {
          "base_uri": "https://localhost:8080/"
        },
        "id": "mjCf4lLuCqjN",
        "outputId": "2ff33eef-2e1b-4952-e47b-43d8c2459198"
      },
      "source": [
        "from google.colab import drive\n",
        "drive.mount('/gDrive')"
      ],
      "execution_count": null,
      "outputs": [
        {
          "output_type": "stream",
          "text": [
            "Mounted at /gDrive\n"
          ],
          "name": "stdout"
        }
      ]
    },
    {
      "cell_type": "code",
      "metadata": {
        "id": "_8eqvnZQDAqH"
      },
      "source": [
        "X = np.load('/gDrive/My Drive/breast_cancer_images/X.npy') # images\n",
        "Y = np.load('/gDrive/My Drive/breast_cancer_images/Y.npy') # labels associated to images (0 = no IDC, 1 = IDC)"
      ],
      "execution_count": null,
      "outputs": []
    },
    {
      "cell_type": "code",
      "metadata": {
        "colab": {
          "base_uri": "https://localhost:8080/"
        },
        "id": "wO31BoT9_Aab",
        "outputId": "df88585a-3592-40a1-a3e8-29be6b728c5d"
      },
      "source": [
        "print(X.shape)\n",
        "print(Y.shape)"
      ],
      "execution_count": null,
      "outputs": [
        {
          "output_type": "stream",
          "text": [
            "(5547, 50, 50, 3)\n",
            "(5547,)\n"
          ],
          "name": "stdout"
        }
      ]
    },
    {
      "cell_type": "code",
      "metadata": {
        "colab": {
          "base_uri": "https://localhost:8080/"
        },
        "id": "McN5VBjbEHm8",
        "outputId": "b2b99574-8aa3-4d71-8ad2-30d812729d61"
      },
      "source": [
        "X_train, X_test, Y_train, Y_test = train_test_split(X, Y, test_size=0.2)#encore faire split parmi les 80% pour garder ces 20% en test set\n",
        "\"\"\"X_train = X_train[0:30000] \n",
        "Y_train = Y_train[0:30000]\n",
        "X_test = X_test[0:30000] \n",
        "Y_test = Y_test[0:30000]\"\"\"\n",
        "X_train = X_train / 256.0\n",
        "X_test = X_test / 256.0\n",
        "\n",
        "print(\"Training Data Shape:\", X_train.shape, Y_train.shape)\n",
        "print(\"Testing Data Shape:\", X_test.shape, Y_test.shape)"
      ],
      "execution_count": null,
      "outputs": [
        {
          "output_type": "stream",
          "text": [
            "Training Data Shape: (4437, 50, 50, 3) (4437,)\n",
            "Testing Data Shape: (1110, 50, 50, 3) (1110,)\n"
          ],
          "name": "stdout"
        }
      ]
    },
    {
      "cell_type": "code",
      "metadata": {
        "colab": {
          "base_uri": "https://localhost:8080/"
        },
        "id": "CiXB6DQuFLSH",
        "outputId": "d72f13a7-8177-4299-911a-264893a1e2f6"
      },
      "source": [
        "Y_train = to_categorical(Y_train, num_classes = 2)\n",
        "Y_test = to_categorical(Y_test, num_classes = 2)\n",
        "print(\"Training Data Shape:\", X_train.shape, Y_train.shape)\n",
        "print(\"Testing Data Shape:\", X_test.shape, Y_test.shape)"
      ],
      "execution_count": null,
      "outputs": [
        {
          "output_type": "stream",
          "text": [
            "Training Data Shape: (4437, 50, 50, 3) (4437, 2)\n",
            "Testing Data Shape: (1110, 50, 50, 3) (1110, 2)\n"
          ],
          "name": "stdout"
        }
      ]
    },
    {
      "cell_type": "code",
      "metadata": {
        "colab": {
          "base_uri": "https://localhost:8080/"
        },
        "id": "kXBabCCA-Kfr",
        "outputId": "1eda6419-d753-47dc-d4a2-d2a1f4cf1b10"
      },
      "source": [
        "Y_train = Y_train.astype('float32')\n",
        "Y_test = Y_test.astype('float32')\n",
        "X_test = X_test.astype('float32') #remplacer , par 1\n",
        "X_train = X_train.astype('float32')\n",
        "print(\"Training Data Shape:\", X_train.shape, Y_train.shape)\n",
        "print(\"Testing Data Shape:\", X_test.shape, Y_test.shape)"
      ],
      "execution_count": null,
      "outputs": [
        {
          "output_type": "stream",
          "text": [
            "Training Data Shape: (4437, 50, 50, 3) (4437, 2)\n",
            "Testing Data Shape: (1110, 50, 50, 3) (1110, 2)\n"
          ],
          "name": "stdout"
        }
      ]
    },
    {
      "cell_type": "code",
      "metadata": {
        "id": "I0w2o7QnGMzd"
      },
      "source": [
        "img_rows, img_cols = X_train.shape[1],X_train.shape[2]\n",
        "model = Sequential()\n",
        "model.add(Conv2D(32,kernel_size=3,activation='relu'))\n",
        "model.add(Conv2D(64,kernel_size=3,activation='relu'))\n",
        "model.add(Flatten())\n",
        "model.add(Dense(128,activation=\"relu\"))\n",
        "model.add(Dense(64,activation=\"relu\"))\n",
        "model.add(Dense(2, activation='softmax'))\n",
        "model.compile(loss='categorical_crossentropy',optimizer='sgd',metrics=['accuracy'])\n",
        "\n"
      ],
      "execution_count": null,
      "outputs": []
    },
    {
      "cell_type": "code",
      "metadata": {
        "id": "eNAqxj9yAvWy"
      },
      "source": [
        "model.fit(X_train,Y_train,epochs=12,validation_data=(X_test,Y_test))"
      ],
      "execution_count": null,
      "outputs": []
    },
    {
      "cell_type": "code",
      "metadata": {
        "colab": {
          "base_uri": "https://localhost:8080/"
        },
        "id": "bLJdkjY2CHUP",
        "outputId": "d6bbdfac-6aba-4b47-96e8-cba6c2eaeab5"
      },
      "source": [
        "model = Sequential()\n",
        "model.add(Conv2D(32,kernel_size=3,activation='relu'))\n",
        "model.add(Conv2D(64,kernel_size=3,activation='relu'))\n",
        "model.add(MaxPooling2D(pool_size=(2,2)))\n",
        "#Classification\n",
        "model.add(Flatten())\n",
        "model.add(Dense(128,activation=\"relu\"))\n",
        "model.add(Dense(2, activation='softmax'))\n",
        "model.compile(loss='categorical_crossentropy',optimizer='sgd',metrics=['accuracy'])\n",
        "history = model.fit(X_train,Y_train,epochs=15,validation_data=(X_test,Y_test))\n"
      ],
      "execution_count": null,
      "outputs": [
        {
          "output_type": "stream",
          "text": [
            "Epoch 1/15\n",
            "139/139 [==============================] - 32s 20ms/step - loss: 0.6978 - accuracy: 0.5310 - val_loss: 0.6726 - val_accuracy: 0.5135\n",
            "Epoch 2/15\n",
            "139/139 [==============================] - 2s 14ms/step - loss: 0.6519 - accuracy: 0.6361 - val_loss: 0.6366 - val_accuracy: 0.6514\n",
            "Epoch 3/15\n",
            "139/139 [==============================] - 2s 14ms/step - loss: 0.6163 - accuracy: 0.6725 - val_loss: 0.5880 - val_accuracy: 0.7009\n",
            "Epoch 4/15\n",
            "139/139 [==============================] - 2s 15ms/step - loss: 0.5845 - accuracy: 0.6952 - val_loss: 0.6236 - val_accuracy: 0.6613\n",
            "Epoch 5/15\n",
            "139/139 [==============================] - 2s 14ms/step - loss: 0.5817 - accuracy: 0.7009 - val_loss: 0.5626 - val_accuracy: 0.7288\n",
            "Epoch 6/15\n",
            "139/139 [==============================] - 2s 15ms/step - loss: 0.5623 - accuracy: 0.7260 - val_loss: 0.5432 - val_accuracy: 0.7459\n",
            "Epoch 7/15\n",
            "139/139 [==============================] - 2s 15ms/step - loss: 0.5603 - accuracy: 0.7190 - val_loss: 0.5942 - val_accuracy: 0.6847\n",
            "Epoch 8/15\n",
            "139/139 [==============================] - 2s 14ms/step - loss: 0.5525 - accuracy: 0.7285 - val_loss: 0.5439 - val_accuracy: 0.7306\n",
            "Epoch 9/15\n",
            "139/139 [==============================] - 2s 14ms/step - loss: 0.5566 - accuracy: 0.7268 - val_loss: 0.5470 - val_accuracy: 0.7486\n",
            "Epoch 10/15\n",
            "139/139 [==============================] - 2s 14ms/step - loss: 0.5439 - accuracy: 0.7346 - val_loss: 0.5982 - val_accuracy: 0.6847\n",
            "Epoch 11/15\n",
            "139/139 [==============================] - 2s 15ms/step - loss: 0.5215 - accuracy: 0.7541 - val_loss: 0.6438 - val_accuracy: 0.6613\n",
            "Epoch 12/15\n",
            "139/139 [==============================] - 2s 14ms/step - loss: 0.5189 - accuracy: 0.7506 - val_loss: 0.5858 - val_accuracy: 0.7000\n",
            "Epoch 13/15\n",
            "139/139 [==============================] - 2s 14ms/step - loss: 0.5380 - accuracy: 0.7402 - val_loss: 0.8805 - val_accuracy: 0.5090\n",
            "Epoch 14/15\n",
            "139/139 [==============================] - 2s 15ms/step - loss: 0.5124 - accuracy: 0.7624 - val_loss: 0.5267 - val_accuracy: 0.7631\n",
            "Epoch 15/15\n",
            "139/139 [==============================] - 2s 14ms/step - loss: 0.5157 - accuracy: 0.7555 - val_loss: 0.5245 - val_accuracy: 0.7441\n"
          ],
          "name": "stdout"
        }
      ]
    },
    {
      "cell_type": "code",
      "metadata": {
        "colab": {
          "base_uri": "https://localhost:8080/"
        },
        "id": "WsGfuqWz6r6s",
        "outputId": "54ca84ba-d692-4834-896e-6fcbb3823cdf"
      },
      "source": [
        "# look at what you can access in the history, i.e. their keys (model.fit is a dict)\n",
        "print(history.history.keys())"
      ],
      "execution_count": null,
      "outputs": [
        {
          "output_type": "stream",
          "text": [
            "dict_keys(['loss', 'accuracy', 'val_loss', 'val_accuracy'])\n"
          ],
          "name": "stdout"
        }
      ]
    },
    {
      "cell_type": "code",
      "metadata": {
        "colab": {
          "base_uri": "https://localhost:8080/",
          "height": 295
        },
        "id": "jCkA6Mun6vNW",
        "outputId": "c8962ba0-6317-4220-94d9-0a9bcab022c8"
      },
      "source": [
        "# access the accuracy of the training test\n",
        "plt.plot(history.history['accuracy'])\n",
        "# access the accuracy of the test set\n",
        "plt.plot(history.history['val_accuracy'])\n",
        "plt.title('model accuracy')\n",
        "plt.ylabel('accuracy')\n",
        "plt.xlabel('epoch')\n",
        "plt.legend(['train', 'test'], loc='upper left')\n",
        "# show the graph\n",
        "plt.show()"
      ],
      "execution_count": null,
      "outputs": [
        {
          "output_type": "display_data",
          "data": {
            "image/png": "[encoded data removed]",
            "text/plain": [
              "<Figure size 432x288 with 1 Axes>"
            ]
          },
          "metadata": {
            "tags": [],
            "needs_background": "light"
          }
        }
      ]
    },
    {
      "cell_type": "code",
      "metadata": {
        "colab": {
          "base_uri": "https://localhost:8080/",
          "height": 482
        },
        "id": "nxEQdfMh6w9S",
        "outputId": "fd4386c7-62de-42d4-c1a0-2d92113845a4"
      },
      "source": [
        "# plot now the loss\n",
        "fig, ax = plt.subplots(dpi=120)\n",
        "ax.plot(history.history['loss'])\n",
        "ax.plot(history.history['val_loss'])\n",
        "plt.title('model loss')\n",
        "plt.ylabel('loss')\n",
        "plt.xlabel('epoch')\n",
        "plt.legend(['train', 'test'], loc='upper left')\n",
        "plt.show()"
      ],
      "execution_count": null,
      "outputs": [
        {
          "output_type": "display_data",
          "data": {
            "image/png": "[encoded data removed]",
            "text/plain": [
              "<Figure size 720x480 with 1 Axes>"
            ]
          },
          "metadata": {
            "tags": [],
            "needs_background": "light"
          }
        }
      ]
    },
    {
      "cell_type": "code",
      "metadata": {
        "id": "p0p9VRR5IYeo"
      },
      "source": [
        "\"\"\" https://github.com/HiYellowC/AggNet/blob/master/model.py\"\"\"\n",
        "\n",
        "from keras.models import Sequential\n",
        "from keras.layers import Conv2D, MaxPooling2D\n",
        "from keras.layers import Activation\n",
        "from keras.layers import Flatten, Dense, Dropout, BatchNormalization\n",
        "from keras.optimizers import Adam\n",
        "\n",
        "model = Sequential()\n",
        "model.add(Conv2D(16, (3, 3), padding='same'))\n",
        "model.add(BatchNormalization())\n",
        "model.add(Activation('relu'))\n",
        "model.add(MaxPooling2D(pool_size=(2, 2)))\n",
        "\n",
        "model.add(Conv2D(32, (3, 3), padding='same'))\n",
        "model.add(BatchNormalization())\n",
        "model.add(Activation('relu'))\n",
        "model.add(MaxPooling2D(pool_size=(2, 2)))\n",
        "model.add(Conv2D(32, (3, 3), padding='same'))\n",
        "model.add(BatchNormalization())\n",
        "model.add(Activation('relu'))\n",
        "model.add(MaxPooling2D(pool_size=(2, 2)))\n",
        "\n",
        "model.add(Flatten())\n",
        "model.add(Dense(100))\n",
        "model.add(Activation('relu'))\n",
        "model.add(Dropout(0.3))\n",
        "model.add(Dense(2))\n",
        "model.add(Activation('softmax'))\n",
        "optimizer = Adam(0.001, 0.9, 0.999, None)\n",
        "model.compile(loss='categorical_crossentropy',\n",
        "                  optimizer=optimizer,\n",
        "                  metrics=['accuracy'])\n",
        "\n"
      ],
      "execution_count": null,
      "outputs": []
    },
    {
      "cell_type": "code",
      "metadata": {
        "colab": {
          "base_uri": "https://localhost:8080/"
        },
        "id": "yACnIVxsMAzv",
        "outputId": "56770436-fb75-4f3f-fb30-2e1e9edb20a0"
      },
      "source": [
        "print(X_train.shape,Y_train.shape)\n",
        "model.fit(X_train,Y_train,epochs=30,validation_data=(X_test,Y_test))"
      ],
      "execution_count": null,
      "outputs": [
        {
          "output_type": "stream",
          "text": [
            "(4437, 50, 50, 3) (4437, 2)\n",
            "Epoch 1/30\n",
            "139/139 [==============================] - 2s 12ms/step - loss: 0.7342 - accuracy: 0.6929 - val_loss: 0.6414 - val_accuracy: 0.5919\n",
            "Epoch 2/30\n",
            "139/139 [==============================] - 1s 9ms/step - loss: 0.5186 - accuracy: 0.7582 - val_loss: 0.6074 - val_accuracy: 0.6631\n",
            "Epoch 3/30\n",
            "139/139 [==============================] - 1s 9ms/step - loss: 0.4713 - accuracy: 0.7889 - val_loss: 0.5725 - val_accuracy: 0.7162\n",
            "Epoch 4/30\n",
            "139/139 [==============================] - 1s 9ms/step - loss: 0.4777 - accuracy: 0.7875 - val_loss: 0.5617 - val_accuracy: 0.7234\n",
            "Epoch 5/30\n",
            "139/139 [==============================] - 1s 9ms/step - loss: 0.4654 - accuracy: 0.7845 - val_loss: 0.5273 - val_accuracy: 0.7532\n",
            "Epoch 6/30\n",
            "139/139 [==============================] - 1s 9ms/step - loss: 0.4396 - accuracy: 0.8054 - val_loss: 0.6708 - val_accuracy: 0.6595\n",
            "Epoch 7/30\n",
            "139/139 [==============================] - 1s 9ms/step - loss: 0.4356 - accuracy: 0.8033 - val_loss: 0.6840 - val_accuracy: 0.6414\n",
            "Epoch 8/30\n",
            "139/139 [==============================] - 1s 9ms/step - loss: 0.4375 - accuracy: 0.8104 - val_loss: 0.4649 - val_accuracy: 0.7883\n",
            "Epoch 9/30\n",
            "139/139 [==============================] - 1s 9ms/step - loss: 0.4305 - accuracy: 0.8074 - val_loss: 0.5346 - val_accuracy: 0.7676\n",
            "Epoch 10/30\n",
            "139/139 [==============================] - 1s 9ms/step - loss: 0.4027 - accuracy: 0.8263 - val_loss: 0.6461 - val_accuracy: 0.7369\n",
            "Epoch 11/30\n",
            "139/139 [==============================] - 1s 9ms/step - loss: 0.4032 - accuracy: 0.8285 - val_loss: 0.6391 - val_accuracy: 0.7261\n",
            "Epoch 12/30\n",
            "139/139 [==============================] - 1s 9ms/step - loss: 0.3922 - accuracy: 0.8249 - val_loss: 0.5275 - val_accuracy: 0.7703\n",
            "Epoch 13/30\n",
            "139/139 [==============================] - 1s 9ms/step - loss: 0.3447 - accuracy: 0.8443 - val_loss: 0.8802 - val_accuracy: 0.6523\n",
            "Epoch 14/30\n",
            "139/139 [==============================] - 1s 9ms/step - loss: 0.3353 - accuracy: 0.8519 - val_loss: 0.5630 - val_accuracy: 0.7622\n",
            "Epoch 15/30\n",
            "139/139 [==============================] - 1s 9ms/step - loss: 0.3149 - accuracy: 0.8634 - val_loss: 0.6993 - val_accuracy: 0.7234\n",
            "Epoch 16/30\n",
            "139/139 [==============================] - 1s 9ms/step - loss: 0.2793 - accuracy: 0.8742 - val_loss: 0.5816 - val_accuracy: 0.7712\n",
            "Epoch 17/30\n",
            "139/139 [==============================] - 1s 9ms/step - loss: 0.2494 - accuracy: 0.8864 - val_loss: 1.2185 - val_accuracy: 0.5622\n",
            "Epoch 18/30\n",
            "139/139 [==============================] - 1s 9ms/step - loss: 0.2398 - accuracy: 0.9039 - val_loss: 1.7937 - val_accuracy: 0.6126\n",
            "Epoch 19/30\n",
            "139/139 [==============================] - 1s 9ms/step - loss: 0.2274 - accuracy: 0.8984 - val_loss: 0.6333 - val_accuracy: 0.7432\n",
            "Epoch 20/30\n",
            "139/139 [==============================] - 1s 9ms/step - loss: 0.1966 - accuracy: 0.9217 - val_loss: 0.8369 - val_accuracy: 0.7144\n",
            "Epoch 21/30\n",
            "139/139 [==============================] - 1s 9ms/step - loss: 0.1910 - accuracy: 0.9125 - val_loss: 0.9130 - val_accuracy: 0.7351\n",
            "Epoch 22/30\n",
            "139/139 [==============================] - 1s 9ms/step - loss: 0.1494 - accuracy: 0.9409 - val_loss: 1.0050 - val_accuracy: 0.6622\n",
            "Epoch 23/30\n",
            "139/139 [==============================] - 1s 9ms/step - loss: 0.1271 - accuracy: 0.9500 - val_loss: 1.1696 - val_accuracy: 0.6964\n",
            "Epoch 24/30\n",
            "139/139 [==============================] - 1s 9ms/step - loss: 0.1192 - accuracy: 0.9539 - val_loss: 0.8965 - val_accuracy: 0.7432\n",
            "Epoch 25/30\n",
            "139/139 [==============================] - 1s 9ms/step - loss: 0.1304 - accuracy: 0.9505 - val_loss: 1.0713 - val_accuracy: 0.7396\n",
            "Epoch 26/30\n",
            "139/139 [==============================] - 1s 9ms/step - loss: 0.0905 - accuracy: 0.9658 - val_loss: 0.9862 - val_accuracy: 0.7306\n",
            "Epoch 27/30\n",
            "139/139 [==============================] - 1s 9ms/step - loss: 0.0946 - accuracy: 0.9612 - val_loss: 1.1322 - val_accuracy: 0.7414\n",
            "Epoch 28/30\n",
            "139/139 [==============================] - 1s 9ms/step - loss: 0.0911 - accuracy: 0.9635 - val_loss: 1.5225 - val_accuracy: 0.7081\n",
            "Epoch 29/30\n",
            "139/139 [==============================] - 1s 9ms/step - loss: 0.0697 - accuracy: 0.9750 - val_loss: 0.9685 - val_accuracy: 0.7270\n",
            "Epoch 30/30\n",
            "139/139 [==============================] - 1s 9ms/step - loss: 0.0683 - accuracy: 0.9715 - val_loss: 2.6336 - val_accuracy: 0.6586\n"
          ],
          "name": "stdout"
        },
        {
          "output_type": "execute_result",
          "data": {
            "text/plain": [
              "<tensorflow.python.keras.callbacks.History at 0x7ff2538d0510>"
            ]
          },
          "metadata": {
            "tags": []
          },
          "execution_count": 29
        }
      ]
    },
    {
      "cell_type": "code",
      "metadata": {
        "colab": {
          "base_uri": "https://localhost:8080/",
          "height": 760
        },
        "id": "VqcnMXx8KjfM",
        "outputId": "cf2efc51-538e-415c-f37b-11b16f9cf80e"
      },
      "source": [
        "# access the accuracy of the training test\n",
        "plt.plot(history.history['accuracy'])\n",
        "# access the accuracy of the test set\n",
        "plt.plot(history.history['val_accuracy'])\n",
        "plt.title('model accuracy')\n",
        "plt.ylabel('accuracy')\n",
        "plt.xlabel('epoch')\n",
        "plt.legend(['train', 'test'], loc='upper left')\n",
        "# plot now the loss\n",
        "fig, ax = plt.subplots(dpi=120)\n",
        "ax.plot(history.history['loss'])\n",
        "ax.plot(history.history['val_loss'])\n",
        "plt.title('model loss')\n",
        "plt.ylabel('loss')\n",
        "plt.xlabel('epoch')\n",
        "plt.legend(['train', 'test'], loc='upper left')\n",
        "plt.show()"
      ],
      "execution_count": null,
      "outputs": [
        {
          "output_type": "display_data",
          "data": {
            "image/png": "[encoded data removed]",
            "text/plain": [
              "<Figure size 432x288 with 1 Axes>"
            ]
          },
          "metadata": {
            "tags": [],
            "needs_background": "light"
          }
        },
        {
          "output_type": "display_data",
          "data": {
            "image/png": "[encoded data removed]",
            "text/plain": [
              "<Figure size 720x480 with 1 Axes>"
            ]
          },
          "metadata": {
            "tags": [],
            "needs_background": "light"
          }
        }
      ]
    },
    {
      "cell_type": "code",
      "metadata": {
        "colab": {
          "base_uri": "https://localhost:8080/"
        },
        "id": "iaSprev7Waos",
        "outputId": "e462f2fe-6c72-4b08-dde8-3dfa0c689bf2"
      },
      "source": [
        "from tensorflow.keras.applications.resnet50 import ResNet50\n",
        "from tensorflow.keras.applications.resnet50 import preprocess_input\n",
        "from tensorflow.keras.preprocessing import image\n",
        "from tensorflow.keras.models import Model\n",
        "from tensorflow.keras.layers import Dense, GlobalAveragePooling2D\n",
        "from tensorflow.keras.layers import Input\n",
        "\n",
        "\n",
        "base_model = ResNet50(input_shape=X_train.shape[1:],weights='imagenet', include_top=False)\n",
        "\n",
        "# add a global spatial average pooling layer\n",
        "x = base_model.output\n",
        "x = GlobalAveragePooling2D()(x)\n",
        "# let's add a fully-connected layer\n",
        "x = Dense(1024, activation='relu')(x)\n",
        "# and a logistic layer -- let's say we have 200 classes\n",
        "predictions = Dense(2, activation='softmax')(x)\n",
        "\n",
        "\n",
        "# this is the model we will train\n",
        "model = Model(inputs=base_model.input, outputs=predictions)\n",
        "\n",
        "# first: train only the top layers (which were randomly initialized)\n",
        "# i.e. freeze all convolutional ResNet50 layers\n",
        "for layer in base_model.layers:\n",
        "    layer.trainable = False\n",
        "\n",
        "# compile the model (should be done *after* setting layers to non-trainable)\n",
        "model.compile(optimizer='rmsprop', loss='categorical_crossentropy',metrics=['accuracy'])\n",
        "\n",
        "#model.summary()\n"
      ],
      "execution_count": null,
      "outputs": [
        {
          "output_type": "stream",
          "text": [
            "Model: \"model_15\"\n",
            "__________________________________________________________________________________________________\n",
            "Layer (type)                    Output Shape         Param #     Connected to                     \n",
            "==================================================================================================\n",
            "input_31 (InputLayer)           [(None, 50, 50, 3)]  0                                            \n",
            "__________________________________________________________________________________________________\n",
            "conv1_pad (ZeroPadding2D)       (None, 56, 56, 3)    0           input_31[0][0]                   \n",
            "__________________________________________________________________________________________________\n",
            "conv1_conv (Conv2D)             (None, 25, 25, 64)   9472        conv1_pad[0][0]                  \n",
            "__________________________________________________________________________________________________\n",
            "conv1_bn (BatchNormalization)   (None, 25, 25, 64)   256         conv1_conv[0][0]                 \n",
            "__________________________________________________________________________________________________\n",
            "conv1_relu (Activation)         (None, 25, 25, 64)   0           conv1_bn[0][0]                   \n",
            "__________________________________________________________________________________________________\n",
            "pool1_pad (ZeroPadding2D)       (None, 27, 27, 64)   0           conv1_relu[0][0]                 \n",
            "__________________________________________________________________________________________________\n",
            "pool1_pool (MaxPooling2D)       (None, 13, 13, 64)   0           pool1_pad[0][0]                  \n",
            "__________________________________________________________________________________________________\n",
            "conv2_block1_1_conv (Conv2D)    (None, 13, 13, 64)   4160        pool1_pool[0][0]                 \n",
            "__________________________________________________________________________________________________\n",
            "conv2_block1_1_bn (BatchNormali (None, 13, 13, 64)   256         conv2_block1_1_conv[0][0]        \n",
            "__________________________________________________________________________________________________\n",
            "conv2_block1_1_relu (Activation (None, 13, 13, 64)   0           conv2_block1_1_bn[0][0]          \n",
            "__________________________________________________________________________________________________\n",
            "conv2_block1_2_conv (Conv2D)    (None, 13, 13, 64)   36928       conv2_block1_1_relu[0][0]        \n",
            "__________________________________________________________________________________________________\n",
            "conv2_block1_2_bn (BatchNormali (None, 13, 13, 64)   256         conv2_block1_2_conv[0][0]        \n",
            "__________________________________________________________________________________________________\n",
            "conv2_block1_2_relu (Activation (None, 13, 13, 64)   0           conv2_block1_2_bn[0][0]          \n",
            "__________________________________________________________________________________________________\n",
            "conv2_block1_0_conv (Conv2D)    (None, 13, 13, 256)  16640       pool1_pool[0][0]                 \n",
            "__________________________________________________________________________________________________\n",
            "conv2_block1_3_conv (Conv2D)    (None, 13, 13, 256)  16640       conv2_block1_2_relu[0][0]        \n",
            "__________________________________________________________________________________________________\n",
            "conv2_block1_0_bn (BatchNormali (None, 13, 13, 256)  1024        conv2_block1_0_conv[0][0]        \n",
            "__________________________________________________________________________________________________\n",
            "conv2_block1_3_bn (BatchNormali (None, 13, 13, 256)  1024        conv2_block1_3_conv[0][0]        \n",
            "__________________________________________________________________________________________________\n",
            "conv2_block1_add (Add)          (None, 13, 13, 256)  0           conv2_block1_0_bn[0][0]          \n",
            "                                                                 conv2_block1_3_bn[0][0]          \n",
            "__________________________________________________________________________________________________\n",
            "conv2_block1_out (Activation)   (None, 13, 13, 256)  0           conv2_block1_add[0][0]           \n",
            "__________________________________________________________________________________________________\n",
            "conv2_block2_1_conv (Conv2D)    (None, 13, 13, 64)   16448       conv2_block1_out[0][0]           \n",
            "__________________________________________________________________________________________________\n",
            "conv2_block2_1_bn (BatchNormali (None, 13, 13, 64)   256         conv2_block2_1_conv[0][0]        \n",
            "__________________________________________________________________________________________________\n",
            "conv2_block2_1_relu (Activation (None, 13, 13, 64)   0           conv2_block2_1_bn[0][0]          \n",
            "__________________________________________________________________________________________________\n",
            "conv2_block2_2_conv (Conv2D)    (None, 13, 13, 64)   36928       conv2_block2_1_relu[0][0]        \n",
            "__________________________________________________________________________________________________\n",
            "conv2_block2_2_bn (BatchNormali (None, 13, 13, 64)   256         conv2_block2_2_conv[0][0]        \n",
            "__________________________________________________________________________________________________\n",
            "conv2_block2_2_relu (Activation (None, 13, 13, 64)   0           conv2_block2_2_bn[0][0]          \n",
            "__________________________________________________________________________________________________\n",
            "conv2_block2_3_conv (Conv2D)    (None, 13, 13, 256)  16640       conv2_block2_2_relu[0][0]        \n",
            "__________________________________________________________________________________________________\n",
            "conv2_block2_3_bn (BatchNormali (None, 13, 13, 256)  1024        conv2_block2_3_conv[0][0]        \n",
            "__________________________________________________________________________________________________\n",
            "conv2_block2_add (Add)          (None, 13, 13, 256)  0           conv2_block1_out[0][0]           \n",
            "                                                                 conv2_block2_3_bn[0][0]          \n",
            "__________________________________________________________________________________________________\n",
            "conv2_block2_out (Activation)   (None, 13, 13, 256)  0           conv2_block2_add[0][0]           \n",
            "__________________________________________________________________________________________________\n",
            "conv2_block3_1_conv (Conv2D)    (None, 13, 13, 64)   16448       conv2_block2_out[0][0]           \n",
            "__________________________________________________________________________________________________\n",
            "conv2_block3_1_bn (BatchNormali (None, 13, 13, 64)   256         conv2_block3_1_conv[0][0]        \n",
            "__________________________________________________________________________________________________\n",
            "conv2_block3_1_relu (Activation (None, 13, 13, 64)   0           conv2_block3_1_bn[0][0]          \n",
            "__________________________________________________________________________________________________\n",
            "conv2_block3_2_conv (Conv2D)    (None, 13, 13, 64)   36928       conv2_block3_1_relu[0][0]        \n",
            "__________________________________________________________________________________________________\n",
            "conv2_block3_2_bn (BatchNormali (None, 13, 13, 64)   256         conv2_block3_2_conv[0][0]        \n",
            "__________________________________________________________________________________________________\n",
            "conv2_block3_2_relu (Activation (None, 13, 13, 64)   0           conv2_block3_2_bn[0][0]          \n",
            "__________________________________________________________________________________________________\n",
            "conv2_block3_3_conv (Conv2D)    (None, 13, 13, 256)  16640       conv2_block3_2_relu[0][0]        \n",
            "__________________________________________________________________________________________________\n",
            "conv2_block3_3_bn (BatchNormali (None, 13, 13, 256)  1024        conv2_block3_3_conv[0][0]        \n",
            "__________________________________________________________________________________________________\n",
            "conv2_block3_add (Add)          (None, 13, 13, 256)  0           conv2_block2_out[0][0]           \n",
            "                                                                 conv2_block3_3_bn[0][0]          \n",
            "__________________________________________________________________________________________________\n",
            "conv2_block3_out (Activation)   (None, 13, 13, 256)  0           conv2_block3_add[0][0]           \n",
            "__________________________________________________________________________________________________\n",
            "conv3_block1_1_conv (Conv2D)    (None, 7, 7, 128)    32896       conv2_block3_out[0][0]           \n",
            "__________________________________________________________________________________________________\n",
            "conv3_block1_1_bn (BatchNormali (None, 7, 7, 128)    512         conv3_block1_1_conv[0][0]        \n",
            "__________________________________________________________________________________________________\n",
            "conv3_block1_1_relu (Activation (None, 7, 7, 128)    0           conv3_block1_1_bn[0][0]          \n",
            "__________________________________________________________________________________________________\n",
            "conv3_block1_2_conv (Conv2D)    (None, 7, 7, 128)    147584      conv3_block1_1_relu[0][0]        \n",
            "__________________________________________________________________________________________________\n",
            "conv3_block1_2_bn (BatchNormali (None, 7, 7, 128)    512         conv3_block1_2_conv[0][0]        \n",
            "__________________________________________________________________________________________________\n",
            "conv3_block1_2_relu (Activation (None, 7, 7, 128)    0           conv3_block1_2_bn[0][0]          \n",
            "__________________________________________________________________________________________________\n",
            "conv3_block1_0_conv (Conv2D)    (None, 7, 7, 512)    131584      conv2_block3_out[0][0]           \n",
            "__________________________________________________________________________________________________\n",
            "conv3_block1_3_conv (Conv2D)    (None, 7, 7, 512)    66048       conv3_block1_2_relu[0][0]        \n",
            "__________________________________________________________________________________________________\n",
            "conv3_block1_0_bn (BatchNormali (None, 7, 7, 512)    2048        conv3_block1_0_conv[0][0]        \n",
            "__________________________________________________________________________________________________\n",
            "conv3_block1_3_bn (BatchNormali (None, 7, 7, 512)    2048        conv3_block1_3_conv[0][0]        \n",
            "__________________________________________________________________________________________________\n",
            "conv3_block1_add (Add)          (None, 7, 7, 512)    0           conv3_block1_0_bn[0][0]          \n",
            "                                                                 conv3_block1_3_bn[0][0]          \n",
            "__________________________________________________________________________________________________\n",
            "conv3_block1_out (Activation)   (None, 7, 7, 512)    0           conv3_block1_add[0][0]           \n",
            "__________________________________________________________________________________________________\n",
            "conv3_block2_1_conv (Conv2D)    (None, 7, 7, 128)    65664       conv3_block1_out[0][0]           \n",
            "__________________________________________________________________________________________________\n",
            "conv3_block2_1_bn (BatchNormali (None, 7, 7, 128)    512         conv3_block2_1_conv[0][0]        \n",
            "__________________________________________________________________________________________________\n",
            "conv3_block2_1_relu (Activation (None, 7, 7, 128)    0           conv3_block2_1_bn[0][0]          \n",
            "__________________________________________________________________________________________________\n",
            "conv3_block2_2_conv (Conv2D)    (None, 7, 7, 128)    147584      conv3_block2_1_relu[0][0]        \n",
            "__________________________________________________________________________________________________\n",
            "conv3_block2_2_bn (BatchNormali (None, 7, 7, 128)    512         conv3_block2_2_conv[0][0]        \n",
            "__________________________________________________________________________________________________\n",
            "conv3_block2_2_relu (Activation (None, 7, 7, 128)    0           conv3_block2_2_bn[0][0]          \n",
            "__________________________________________________________________________________________________\n",
            "conv3_block2_3_conv (Conv2D)    (None, 7, 7, 512)    66048       conv3_block2_2_relu[0][0]        \n",
            "__________________________________________________________________________________________________\n",
            "conv3_block2_3_bn (BatchNormali (None, 7, 7, 512)    2048        conv3_block2_3_conv[0][0]        \n",
            "__________________________________________________________________________________________________\n",
            "conv3_block2_add (Add)          (None, 7, 7, 512)    0           conv3_block1_out[0][0]           \n",
            "                                                                 conv3_block2_3_bn[0][0]          \n",
            "__________________________________________________________________________________________________\n",
            "conv3_block2_out (Activation)   (None, 7, 7, 512)    0           conv3_block2_add[0][0]           \n",
            "__________________________________________________________________________________________________\n",
            "conv3_block3_1_conv (Conv2D)    (None, 7, 7, 128)    65664       conv3_block2_out[0][0]           \n",
            "__________________________________________________________________________________________________\n",
            "conv3_block3_1_bn (BatchNormali (None, 7, 7, 128)    512         conv3_block3_1_conv[0][0]        \n",
            "__________________________________________________________________________________________________\n",
            "conv3_block3_1_relu (Activation (None, 7, 7, 128)    0           conv3_block3_1_bn[0][0]          \n",
            "__________________________________________________________________________________________________\n",
            "conv3_block3_2_conv (Conv2D)    (None, 7, 7, 128)    147584      conv3_block3_1_relu[0][0]        \n",
            "__________________________________________________________________________________________________\n",
            "conv3_block3_2_bn (BatchNormali (None, 7, 7, 128)    512         conv3_block3_2_conv[0][0]        \n",
            "__________________________________________________________________________________________________\n",
            "conv3_block3_2_relu (Activation (None, 7, 7, 128)    0           conv3_block3_2_bn[0][0]          \n",
            "__________________________________________________________________________________________________\n",
            "conv3_block3_3_conv (Conv2D)    (None, 7, 7, 512)    66048       conv3_block3_2_relu[0][0]        \n",
            "__________________________________________________________________________________________________\n",
            "conv3_block3_3_bn (BatchNormali (None, 7, 7, 512)    2048        conv3_block3_3_conv[0][0]        \n",
            "__________________________________________________________________________________________________\n",
            "conv3_block3_add (Add)          (None, 7, 7, 512)    0           conv3_block2_out[0][0]           \n",
            "                                                                 conv3_block3_3_bn[0][0]          \n",
            "__________________________________________________________________________________________________\n",
            "conv3_block3_out (Activation)   (None, 7, 7, 512)    0           conv3_block3_add[0][0]           \n",
            "__________________________________________________________________________________________________\n",
            "conv3_block4_1_conv (Conv2D)    (None, 7, 7, 128)    65664       conv3_block3_out[0][0]           \n",
            "__________________________________________________________________________________________________\n",
            "conv3_block4_1_bn (BatchNormali (None, 7, 7, 128)    512         conv3_block4_1_conv[0][0]        \n",
            "__________________________________________________________________________________________________\n",
            "conv3_block4_1_relu (Activation (None, 7, 7, 128)    0           conv3_block4_1_bn[0][0]          \n",
            "__________________________________________________________________________________________________\n",
            "conv3_block4_2_conv (Conv2D)    (None, 7, 7, 128)    147584      conv3_block4_1_relu[0][0]        \n",
            "__________________________________________________________________________________________________\n",
            "conv3_block4_2_bn (BatchNormali (None, 7, 7, 128)    512         conv3_block4_2_conv[0][0]        \n",
            "__________________________________________________________________________________________________\n",
            "conv3_block4_2_relu (Activation (None, 7, 7, 128)    0           conv3_block4_2_bn[0][0]          \n",
            "__________________________________________________________________________________________________\n",
            "conv3_block4_3_conv (Conv2D)    (None, 7, 7, 512)    66048       conv3_block4_2_relu[0][0]        \n",
            "__________________________________________________________________________________________________\n",
            "conv3_block4_3_bn (BatchNormali (None, 7, 7, 512)    2048        conv3_block4_3_conv[0][0]        \n",
            "__________________________________________________________________________________________________\n",
            "conv3_block4_add (Add)          (None, 7, 7, 512)    0           conv3_block3_out[0][0]           \n",
            "                                                                 conv3_block4_3_bn[0][0]          \n",
            "__________________________________________________________________________________________________\n",
            "conv3_block4_out (Activation)   (None, 7, 7, 512)    0           conv3_block4_add[0][0]           \n",
            "__________________________________________________________________________________________________\n",
            "conv4_block1_1_conv (Conv2D)    (None, 4, 4, 256)    131328      conv3_block4_out[0][0]           \n",
            "__________________________________________________________________________________________________\n",
            "conv4_block1_1_bn (BatchNormali (None, 4, 4, 256)    1024        conv4_block1_1_conv[0][0]        \n",
            "__________________________________________________________________________________________________\n",
            "conv4_block1_1_relu (Activation (None, 4, 4, 256)    0           conv4_block1_1_bn[0][0]          \n",
            "__________________________________________________________________________________________________\n",
            "conv4_block1_2_conv (Conv2D)    (None, 4, 4, 256)    590080      conv4_block1_1_relu[0][0]        \n",
            "__________________________________________________________________________________________________\n",
            "conv4_block1_2_bn (BatchNormali (None, 4, 4, 256)    1024        conv4_block1_2_conv[0][0]        \n",
            "__________________________________________________________________________________________________\n",
            "conv4_block1_2_relu (Activation (None, 4, 4, 256)    0           conv4_block1_2_bn[0][0]          \n",
            "__________________________________________________________________________________________________\n",
            "conv4_block1_0_conv (Conv2D)    (None, 4, 4, 1024)   525312      conv3_block4_out[0][0]           \n",
            "__________________________________________________________________________________________________\n",
            "conv4_block1_3_conv (Conv2D)    (None, 4, 4, 1024)   263168      conv4_block1_2_relu[0][0]        \n",
            "__________________________________________________________________________________________________\n",
            "conv4_block1_0_bn (BatchNormali (None, 4, 4, 1024)   4096        conv4_block1_0_conv[0][0]        \n",
            "__________________________________________________________________________________________________\n",
            "conv4_block1_3_bn (BatchNormali (None, 4, 4, 1024)   4096        conv4_block1_3_conv[0][0]        \n",
            "__________________________________________________________________________________________________\n",
            "conv4_block1_add (Add)          (None, 4, 4, 1024)   0           conv4_block1_0_bn[0][0]          \n",
            "                                                                 conv4_block1_3_bn[0][0]          \n",
            "__________________________________________________________________________________________________\n",
            "conv4_block1_out (Activation)   (None, 4, 4, 1024)   0           conv4_block1_add[0][0]           \n",
            "__________________________________________________________________________________________________\n",
            "conv4_block2_1_conv (Conv2D)    (None, 4, 4, 256)    262400      conv4_block1_out[0][0]           \n",
            "__________________________________________________________________________________________________\n",
            "conv4_block2_1_bn (BatchNormali (None, 4, 4, 256)    1024        conv4_block2_1_conv[0][0]        \n",
            "__________________________________________________________________________________________________\n",
            "conv4_block2_1_relu (Activation (None, 4, 4, 256)    0           conv4_block2_1_bn[0][0]          \n",
            "__________________________________________________________________________________________________\n",
            "conv4_block2_2_conv (Conv2D)    (None, 4, 4, 256)    590080      conv4_block2_1_relu[0][0]        \n",
            "__________________________________________________________________________________________________\n",
            "conv4_block2_2_bn (BatchNormali (None, 4, 4, 256)    1024        conv4_block2_2_conv[0][0]        \n",
            "__________________________________________________________________________________________________\n",
            "conv4_block2_2_relu (Activation (None, 4, 4, 256)    0           conv4_block2_2_bn[0][0]          \n",
            "__________________________________________________________________________________________________\n",
            "conv4_block2_3_conv (Conv2D)    (None, 4, 4, 1024)   263168      conv4_block2_2_relu[0][0]        \n",
            "__________________________________________________________________________________________________\n",
            "conv4_block2_3_bn (BatchNormali (None, 4, 4, 1024)   4096        conv4_block2_3_conv[0][0]        \n",
            "__________________________________________________________________________________________________\n",
            "conv4_block2_add (Add)          (None, 4, 4, 1024)   0           conv4_block1_out[0][0]           \n",
            "                                                                 conv4_block2_3_bn[0][0]          \n",
            "__________________________________________________________________________________________________\n",
            "conv4_block2_out (Activation)   (None, 4, 4, 1024)   0           conv4_block2_add[0][0]           \n",
            "__________________________________________________________________________________________________\n",
            "conv4_block3_1_conv (Conv2D)    (None, 4, 4, 256)    262400      conv4_block2_out[0][0]           \n",
            "__________________________________________________________________________________________________\n",
            "conv4_block3_1_bn (BatchNormali (None, 4, 4, 256)    1024        conv4_block3_1_conv[0][0]        \n",
            "__________________________________________________________________________________________________\n",
            "conv4_block3_1_relu (Activation (None, 4, 4, 256)    0           conv4_block3_1_bn[0][0]          \n",
            "__________________________________________________________________________________________________\n",
            "conv4_block3_2_conv (Conv2D)    (None, 4, 4, 256)    590080      conv4_block3_1_relu[0][0]        \n",
            "__________________________________________________________________________________________________\n",
            "conv4_block3_2_bn (BatchNormali (None, 4, 4, 256)    1024        conv4_block3_2_conv[0][0]        \n",
            "__________________________________________________________________________________________________\n",
            "conv4_block3_2_relu (Activation (None, 4, 4, 256)    0           conv4_block3_2_bn[0][0]          \n",
            "__________________________________________________________________________________________________\n",
            "conv4_block3_3_conv (Conv2D)    (None, 4, 4, 1024)   263168      conv4_block3_2_relu[0][0]        \n",
            "__________________________________________________________________________________________________\n",
            "conv4_block3_3_bn (BatchNormali (None, 4, 4, 1024)   4096        conv4_block3_3_conv[0][0]        \n",
            "__________________________________________________________________________________________________\n",
            "conv4_block3_add (Add)          (None, 4, 4, 1024)   0           conv4_block2_out[0][0]           \n",
            "                                                                 conv4_block3_3_bn[0][0]          \n",
            "__________________________________________________________________________________________________\n",
            "conv4_block3_out (Activation)   (None, 4, 4, 1024)   0           conv4_block3_add[0][0]           \n",
            "__________________________________________________________________________________________________\n",
            "conv4_block4_1_conv (Conv2D)    (None, 4, 4, 256)    262400      conv4_block3_out[0][0]           \n",
            "__________________________________________________________________________________________________\n",
            "conv4_block4_1_bn (BatchNormali (None, 4, 4, 256)    1024        conv4_block4_1_conv[0][0]        \n",
            "__________________________________________________________________________________________________\n",
            "conv4_block4_1_relu (Activation (None, 4, 4, 256)    0           conv4_block4_1_bn[0][0]          \n",
            "__________________________________________________________________________________________________\n",
            "conv4_block4_2_conv (Conv2D)    (None, 4, 4, 256)    590080      conv4_block4_1_relu[0][0]        \n",
            "__________________________________________________________________________________________________\n",
            "conv4_block4_2_bn (BatchNormali (None, 4, 4, 256)    1024        conv4_block4_2_conv[0][0]        \n",
            "__________________________________________________________________________________________________\n",
            "conv4_block4_2_relu (Activation (None, 4, 4, 256)    0           conv4_block4_2_bn[0][0]          \n",
            "__________________________________________________________________________________________________\n",
            "conv4_block4_3_conv (Conv2D)    (None, 4, 4, 1024)   263168      conv4_block4_2_relu[0][0]        \n",
            "__________________________________________________________________________________________________\n",
            "conv4_block4_3_bn (BatchNormali (None, 4, 4, 1024)   4096        conv4_block4_3_conv[0][0]        \n",
            "__________________________________________________________________________________________________\n",
            "conv4_block4_add (Add)          (None, 4, 4, 1024)   0           conv4_block3_out[0][0]           \n",
            "                                                                 conv4_block4_3_bn[0][0]          \n",
            "__________________________________________________________________________________________________\n",
            "conv4_block4_out (Activation)   (None, 4, 4, 1024)   0           conv4_block4_add[0][0]           \n",
            "__________________________________________________________________________________________________\n",
            "conv4_block5_1_conv (Conv2D)    (None, 4, 4, 256)    262400      conv4_block4_out[0][0]           \n",
            "__________________________________________________________________________________________________\n",
            "conv4_block5_1_bn (BatchNormali (None, 4, 4, 256)    1024        conv4_block5_1_conv[0][0]        \n",
            "__________________________________________________________________________________________________\n",
            "conv4_block5_1_relu (Activation (None, 4, 4, 256)    0           conv4_block5_1_bn[0][0]          \n",
            "__________________________________________________________________________________________________\n",
            "conv4_block5_2_conv (Conv2D)    (None, 4, 4, 256)    590080      conv4_block5_1_relu[0][0]        \n",
            "__________________________________________________________________________________________________\n",
            "conv4_block5_2_bn (BatchNormali (None, 4, 4, 256)    1024        conv4_block5_2_conv[0][0]        \n",
            "__________________________________________________________________________________________________\n",
            "conv4_block5_2_relu (Activation (None, 4, 4, 256)    0           conv4_block5_2_bn[0][0]          \n",
            "__________________________________________________________________________________________________\n",
            "conv4_block5_3_conv (Conv2D)    (None, 4, 4, 1024)   263168      conv4_block5_2_relu[0][0]        \n",
            "__________________________________________________________________________________________________\n",
            "conv4_block5_3_bn (BatchNormali (None, 4, 4, 1024)   4096        conv4_block5_3_conv[0][0]        \n",
            "__________________________________________________________________________________________________\n",
            "conv4_block5_add (Add)          (None, 4, 4, 1024)   0           conv4_block4_out[0][0]           \n",
            "                                                                 conv4_block5_3_bn[0][0]          \n",
            "__________________________________________________________________________________________________\n",
            "conv4_block5_out (Activation)   (None, 4, 4, 1024)   0           conv4_block5_add[0][0]           \n",
            "__________________________________________________________________________________________________\n",
            "conv4_block6_1_conv (Conv2D)    (None, 4, 4, 256)    262400      conv4_block5_out[0][0]           \n",
            "__________________________________________________________________________________________________\n",
            "conv4_block6_1_bn (BatchNormali (None, 4, 4, 256)    1024        conv4_block6_1_conv[0][0]        \n",
            "__________________________________________________________________________________________________\n",
            "conv4_block6_1_relu (Activation (None, 4, 4, 256)    0           conv4_block6_1_bn[0][0]          \n",
            "__________________________________________________________________________________________________\n",
            "conv4_block6_2_conv (Conv2D)    (None, 4, 4, 256)    590080      conv4_block6_1_relu[0][0]        \n",
            "__________________________________________________________________________________________________\n",
            "conv4_block6_2_bn (BatchNormali (None, 4, 4, 256)    1024        conv4_block6_2_conv[0][0]        \n",
            "__________________________________________________________________________________________________\n",
            "conv4_block6_2_relu (Activation (None, 4, 4, 256)    0           conv4_block6_2_bn[0][0]          \n",
            "__________________________________________________________________________________________________\n",
            "conv4_block6_3_conv (Conv2D)    (None, 4, 4, 1024)   263168      conv4_block6_2_relu[0][0]        \n",
            "__________________________________________________________________________________________________\n",
            "conv4_block6_3_bn (BatchNormali (None, 4, 4, 1024)   4096        conv4_block6_3_conv[0][0]        \n",
            "__________________________________________________________________________________________________\n",
            "conv4_block6_add (Add)          (None, 4, 4, 1024)   0           conv4_block5_out[0][0]           \n",
            "                                                                 conv4_block6_3_bn[0][0]          \n",
            "__________________________________________________________________________________________________\n",
            "conv4_block6_out (Activation)   (None, 4, 4, 1024)   0           conv4_block6_add[0][0]           \n",
            "__________________________________________________________________________________________________\n",
            "conv5_block1_1_conv (Conv2D)    (None, 2, 2, 512)    524800      conv4_block6_out[0][0]           \n",
            "__________________________________________________________________________________________________\n",
            "conv5_block1_1_bn (BatchNormali (None, 2, 2, 512)    2048        conv5_block1_1_conv[0][0]        \n",
            "__________________________________________________________________________________________________\n",
            "conv5_block1_1_relu (Activation (None, 2, 2, 512)    0           conv5_block1_1_bn[0][0]          \n",
            "__________________________________________________________________________________________________\n",
            "conv5_block1_2_conv (Conv2D)    (None, 2, 2, 512)    2359808     conv5_block1_1_relu[0][0]        \n",
            "__________________________________________________________________________________________________\n",
            "conv5_block1_2_bn (BatchNormali (None, 2, 2, 512)    2048        conv5_block1_2_conv[0][0]        \n",
            "__________________________________________________________________________________________________\n",
            "conv5_block1_2_relu (Activation (None, 2, 2, 512)    0           conv5_block1_2_bn[0][0]          \n",
            "__________________________________________________________________________________________________\n",
            "conv5_block1_0_conv (Conv2D)    (None, 2, 2, 2048)   2099200     conv4_block6_out[0][0]           \n",
            "__________________________________________________________________________________________________\n",
            "conv5_block1_3_conv (Conv2D)    (None, 2, 2, 2048)   1050624     conv5_block1_2_relu[0][0]        \n",
            "__________________________________________________________________________________________________\n",
            "conv5_block1_0_bn (BatchNormali (None, 2, 2, 2048)   8192        conv5_block1_0_conv[0][0]        \n",
            "__________________________________________________________________________________________________\n",
            "conv5_block1_3_bn (BatchNormali (None, 2, 2, 2048)   8192        conv5_block1_3_conv[0][0]        \n",
            "__________________________________________________________________________________________________\n",
            "conv5_block1_add (Add)          (None, 2, 2, 2048)   0           conv5_block1_0_bn[0][0]          \n",
            "                                                                 conv5_block1_3_bn[0][0]          \n",
            "__________________________________________________________________________________________________\n",
            "conv5_block1_out (Activation)   (None, 2, 2, 2048)   0           conv5_block1_add[0][0]           \n",
            "__________________________________________________________________________________________________\n",
            "conv5_block2_1_conv (Conv2D)    (None, 2, 2, 512)    1049088     conv5_block1_out[0][0]           \n",
            "__________________________________________________________________________________________________\n",
            "conv5_block2_1_bn (BatchNormali (None, 2, 2, 512)    2048        conv5_block2_1_conv[0][0]        \n",
            "__________________________________________________________________________________________________\n",
            "conv5_block2_1_relu (Activation (None, 2, 2, 512)    0           conv5_block2_1_bn[0][0]          \n",
            "__________________________________________________________________________________________________\n",
            "conv5_block2_2_conv (Conv2D)    (None, 2, 2, 512)    2359808     conv5_block2_1_relu[0][0]        \n",
            "__________________________________________________________________________________________________\n",
            "conv5_block2_2_bn (BatchNormali (None, 2, 2, 512)    2048        conv5_block2_2_conv[0][0]        \n",
            "__________________________________________________________________________________________________\n",
            "conv5_block2_2_relu (Activation (None, 2, 2, 512)    0           conv5_block2_2_bn[0][0]          \n",
            "__________________________________________________________________________________________________\n",
            "conv5_block2_3_conv (Conv2D)    (None, 2, 2, 2048)   1050624     conv5_block2_2_relu[0][0]        \n",
            "__________________________________________________________________________________________________\n",
            "conv5_block2_3_bn (BatchNormali (None, 2, 2, 2048)   8192        conv5_block2_3_conv[0][0]        \n",
            "__________________________________________________________________________________________________\n",
            "conv5_block2_add (Add)          (None, 2, 2, 2048)   0           conv5_block1_out[0][0]           \n",
            "                                                                 conv5_block2_3_bn[0][0]          \n",
            "__________________________________________________________________________________________________\n",
            "conv5_block2_out (Activation)   (None, 2, 2, 2048)   0           conv5_block2_add[0][0]           \n",
            "__________________________________________________________________________________________________\n",
            "conv5_block3_1_conv (Conv2D)    (None, 2, 2, 512)    1049088     conv5_block2_out[0][0]           \n",
            "__________________________________________________________________________________________________\n",
            "conv5_block3_1_bn (BatchNormali (None, 2, 2, 512)    2048        conv5_block3_1_conv[0][0]        \n",
            "__________________________________________________________________________________________________\n",
            "conv5_block3_1_relu (Activation (None, 2, 2, 512)    0           conv5_block3_1_bn[0][0]          \n",
            "__________________________________________________________________________________________________\n",
            "conv5_block3_2_conv (Conv2D)    (None, 2, 2, 512)    2359808     conv5_block3_1_relu[0][0]        \n",
            "__________________________________________________________________________________________________\n",
            "conv5_block3_2_bn (BatchNormali (None, 2, 2, 512)    2048        conv5_block3_2_conv[0][0]        \n",
            "__________________________________________________________________________________________________\n",
            "conv5_block3_2_relu (Activation (None, 2, 2, 512)    0           conv5_block3_2_bn[0][0]          \n",
            "__________________________________________________________________________________________________\n",
            "conv5_block3_3_conv (Conv2D)    (None, 2, 2, 2048)   1050624     conv5_block3_2_relu[0][0]        \n",
            "__________________________________________________________________________________________________\n",
            "conv5_block3_3_bn (BatchNormali (None, 2, 2, 2048)   8192        conv5_block3_3_conv[0][0]        \n",
            "__________________________________________________________________________________________________\n",
            "conv5_block3_add (Add)          (None, 2, 2, 2048)   0           conv5_block2_out[0][0]           \n",
            "                                                                 conv5_block3_3_bn[0][0]          \n",
            "__________________________________________________________________________________________________\n",
            "conv5_block3_out (Activation)   (None, 2, 2, 2048)   0           conv5_block3_add[0][0]           \n",
            "__________________________________________________________________________________________________\n",
            "global_average_pooling2d_17 (Gl (None, 2048)         0           conv5_block3_out[0][0]           \n",
            "__________________________________________________________________________________________________\n",
            "dense_55 (Dense)                (None, 1024)         2098176     global_average_pooling2d_17[0][0]\n",
            "__________________________________________________________________________________________________\n",
            "dense_56 (Dense)                (None, 2)            2050        dense_55[0][0]                   \n",
            "==================================================================================================\n",
            "Total params: 25,687,938\n",
            "Trainable params: 2,100,226\n",
            "Non-trainable params: 23,587,712\n",
            "__________________________________________________________________________________________________\n"
          ],
          "name": "stdout"
        }
      ]
    },
    {
      "cell_type": "code",
      "metadata": {
        "colab": {
          "base_uri": "https://localhost:8080/"
        },
        "id": "fjjOqxEZYAQb",
        "outputId": "d8e0e248-607f-4c35-ca9a-ecfa8858bcf5"
      },
      "source": [
        "model.fit(X_train,Y_train,epochs=30,validation_data=(X_test,Y_test))"
      ],
      "execution_count": null,
      "outputs": [
        {
          "output_type": "stream",
          "text": [
            "Epoch 1/30\n",
            "139/139 [==============================] - 11s 53ms/step - loss: 0.9786 - accuracy: 0.4926 - val_loss: 0.6893 - val_accuracy: 0.5162\n",
            "Epoch 2/30\n",
            "139/139 [==============================] - 6s 45ms/step - loss: 0.7211 - accuracy: 0.5393 - val_loss: 0.6934 - val_accuracy: 0.5036\n",
            "Epoch 3/30\n",
            "139/139 [==============================] - 6s 45ms/step - loss: 0.6933 - accuracy: 0.5425 - val_loss: 0.7570 - val_accuracy: 0.5054\n",
            "Epoch 4/30\n",
            "139/139 [==============================] - 6s 45ms/step - loss: 0.6845 - accuracy: 0.5639 - val_loss: 0.6650 - val_accuracy: 0.6171\n",
            "Epoch 5/30\n",
            "139/139 [==============================] - 6s 45ms/step - loss: 0.6732 - accuracy: 0.5728 - val_loss: 0.6573 - val_accuracy: 0.6315\n",
            "Epoch 6/30\n",
            "139/139 [==============================] - 6s 44ms/step - loss: 0.6593 - accuracy: 0.6069 - val_loss: 0.6721 - val_accuracy: 0.5568\n",
            "Epoch 7/30\n",
            "139/139 [==============================] - 6s 45ms/step - loss: 0.6497 - accuracy: 0.6173 - val_loss: 0.7274 - val_accuracy: 0.5117\n",
            "Epoch 8/30\n",
            "139/139 [==============================] - 6s 45ms/step - loss: 0.6515 - accuracy: 0.6118 - val_loss: 0.6447 - val_accuracy: 0.6396\n",
            "Epoch 9/30\n",
            "139/139 [==============================] - 6s 45ms/step - loss: 0.6426 - accuracy: 0.6311 - val_loss: 0.6329 - val_accuracy: 0.6459\n",
            "Epoch 10/30\n",
            "139/139 [==============================] - 6s 44ms/step - loss: 0.6368 - accuracy: 0.6362 - val_loss: 0.6726 - val_accuracy: 0.5829\n",
            "Epoch 11/30\n",
            "139/139 [==============================] - 6s 45ms/step - loss: 0.6349 - accuracy: 0.6306 - val_loss: 0.6517 - val_accuracy: 0.6000\n",
            "Epoch 12/30\n",
            "139/139 [==============================] - 6s 45ms/step - loss: 0.6340 - accuracy: 0.6461 - val_loss: 0.6408 - val_accuracy: 0.6351\n",
            "Epoch 13/30\n",
            "139/139 [==============================] - 6s 45ms/step - loss: 0.6329 - accuracy: 0.6441 - val_loss: 0.6398 - val_accuracy: 0.6279\n",
            "Epoch 14/30\n",
            "139/139 [==============================] - 6s 45ms/step - loss: 0.6411 - accuracy: 0.6206 - val_loss: 0.7483 - val_accuracy: 0.5577\n",
            "Epoch 15/30\n",
            "139/139 [==============================] - 6s 45ms/step - loss: 0.6235 - accuracy: 0.6513 - val_loss: 0.6471 - val_accuracy: 0.6153\n",
            "Epoch 16/30\n",
            "139/139 [==============================] - 6s 45ms/step - loss: 0.6095 - accuracy: 0.6708 - val_loss: 0.6551 - val_accuracy: 0.6270\n",
            "Epoch 17/30\n",
            "139/139 [==============================] - 6s 44ms/step - loss: 0.6203 - accuracy: 0.6508 - val_loss: 0.7595 - val_accuracy: 0.5577\n",
            "Epoch 18/30\n",
            "139/139 [==============================] - 6s 45ms/step - loss: 0.6291 - accuracy: 0.6573 - val_loss: 0.6715 - val_accuracy: 0.6117\n",
            "Epoch 19/30\n",
            "139/139 [==============================] - 6s 45ms/step - loss: 0.6055 - accuracy: 0.6650 - val_loss: 0.6246 - val_accuracy: 0.6432\n",
            "Epoch 20/30\n",
            "139/139 [==============================] - 6s 45ms/step - loss: 0.6189 - accuracy: 0.6581 - val_loss: 0.6263 - val_accuracy: 0.6477\n",
            "Epoch 21/30\n",
            "139/139 [==============================] - 6s 45ms/step - loss: 0.6063 - accuracy: 0.6696 - val_loss: 0.6686 - val_accuracy: 0.5973\n",
            "Epoch 22/30\n",
            "139/139 [==============================] - 6s 45ms/step - loss: 0.6171 - accuracy: 0.6628 - val_loss: 0.6193 - val_accuracy: 0.6568\n",
            "Epoch 23/30\n",
            "139/139 [==============================] - 6s 45ms/step - loss: 0.6216 - accuracy: 0.6520 - val_loss: 0.7282 - val_accuracy: 0.5649\n",
            "Epoch 24/30\n",
            "139/139 [==============================] - 6s 45ms/step - loss: 0.6037 - accuracy: 0.6727 - val_loss: 0.6760 - val_accuracy: 0.6090\n",
            "Epoch 25/30\n",
            "139/139 [==============================] - 6s 45ms/step - loss: 0.6081 - accuracy: 0.6695 - val_loss: 0.6772 - val_accuracy: 0.6099\n",
            "Epoch 26/30\n",
            "139/139 [==============================] - 6s 45ms/step - loss: 0.6069 - accuracy: 0.6684 - val_loss: 0.8194 - val_accuracy: 0.5604\n",
            "Epoch 27/30\n",
            "139/139 [==============================] - 6s 45ms/step - loss: 0.6192 - accuracy: 0.6646 - val_loss: 0.6435 - val_accuracy: 0.6261\n",
            "Epoch 28/30\n",
            "139/139 [==============================] - 6s 45ms/step - loss: 0.6133 - accuracy: 0.6704 - val_loss: 0.8047 - val_accuracy: 0.5477\n",
            "Epoch 29/30\n",
            "139/139 [==============================] - 6s 45ms/step - loss: 0.6013 - accuracy: 0.6791 - val_loss: 0.6483 - val_accuracy: 0.6351\n",
            "Epoch 30/30\n",
            "139/139 [==============================] - 6s 45ms/step - loss: 0.6119 - accuracy: 0.6575 - val_loss: 0.6517 - val_accuracy: 0.6333\n"
          ],
          "name": "stdout"
        },
        {
          "output_type": "execute_result",
          "data": {
            "text/plain": [
              "<tensorflow.python.keras.callbacks.History at 0x7ff24f4cdb50>"
            ]
          },
          "metadata": {
            "tags": []
          },
          "execution_count": 60
        }
      ]
    },
    {
      "cell_type": "code",
      "metadata": {
        "id": "UFbyOoh_XKSJ"
      },
      "source": [
        "# train the model on the new data for a few epochs\n",
        "model.fit(...)\n",
        "\n",
        "# at this point, the top layers are well trained and we can start fine-tuning\n",
        "# convolutional layers from inception V3. We will freeze the bottom N layers\n",
        "# and train the remaining top layers.\n",
        "\n",
        "# let's visualize layer names and layer indices to see how many layers\n",
        "# we should freeze:\n",
        "for i, layer in enumerate(base_model.layers):\n",
        "   print(i, layer.name)\n",
        "\n",
        "# we chose to train the top 2 inception blocks, i.e. we will freeze\n",
        "# the first 249 layers and unfreeze the rest:\n",
        "for layer in model.layers[:249]:\n",
        "   layer.trainable = False\n",
        "for layer in model.layers[249:]:\n",
        "   layer.trainable = True\n",
        "\n",
        "# we need to recompile the model for these modifications to take effect\n",
        "# we use SGD with a low learning rate\n",
        "from tensorflow.keras.optimizers import SGD\n",
        "model.compile(optimizer=SGD(lr=0.0001, momentum=0.9), loss='categorical_crossentropy')\n",
        "\n",
        "# we train our model again (this time fine-tuning the top 2 inception blocks\n",
        "# alongside the top Dense layers\n",
        "model.fit(...)\n"
      ],
      "execution_count": null,
      "outputs": []
    },
    {
      "cell_type": "code",
      "metadata": {
        "colab": {
          "base_uri": "https://localhost:8080/"
        },
        "id": "BHgICqdfEvLe",
        "outputId": "b1471127-5b5d-4569-c69c-f15a6649aa5c"
      },
      "source": [
        "X_trainShape = X_train.shape[1]*X_train.shape[2]*X_train.shape[3]\n",
        "X_testShape = X_test.shape[1]*X_test.shape[2]*X_test.shape[3]\n",
        "\n",
        "X_trainFlat = X_train.reshape(X_train.shape[0], X_trainShape)\n",
        "X_testFlat = X_test.reshape(X_test.shape[0], X_testShape)\n",
        "print(X_trainShape)\n",
        "print(X_testShape)\n",
        "print(X_trainFlat)\n",
        "print(X_testFlat)"
      ],
      "execution_count": null,
      "outputs": [
        {
          "output_type": "stream",
          "text": [
            "7500\n",
            "7500\n",
            "[[0.92578125 0.90625    0.92578125 ... 0.63671875 0.48828125 0.62890625]\n",
            " [0.77734375 0.4453125  0.58984375 ... 0.80859375 0.35546875 0.52734375]\n",
            " [0.71484375 0.625      0.75390625 ... 0.60546875 0.47265625 0.6328125 ]\n",
            " ...\n",
            " [0.98046875 0.984375   0.984375   ... 0.8359375  0.78515625 0.88671875]\n",
            " [0.6796875  0.4296875  0.59765625 ... 0.58984375 0.20703125 0.3828125 ]\n",
            " [0.84375    0.5546875  0.6875     ... 0.80078125 0.69921875 0.80859375]]\n",
            "[[0.8984375  0.72265625 0.78125    ... 0.921875   0.796875   0.85546875]\n",
            " [0.87109375 0.66796875 0.7578125  ... 0.86328125 0.82421875 0.859375  ]\n",
            " [0.56640625 0.41796875 0.4609375  ... 0.84765625 0.6015625  0.71484375]\n",
            " ...\n",
            " [0.95703125 0.94140625 0.93359375 ... 0.91796875 0.9140625  0.91796875]\n",
            " [0.828125   0.59375    0.703125   ... 0.5859375  0.3125     0.46484375]\n",
            " [0.8984375  0.8125     0.87109375 ... 0.65625    0.484375   0.65625   ]]\n"
          ],
          "name": "stdout"
        }
      ]
    },
    {
      "cell_type": "code",
      "metadata": {
        "id": "S_XrLdPPoa2v"
      },
      "source": [
        "from sklearn.svm import LinearSVC\n",
        "\n",
        "knn = KNeighborsClassifier(n_neighbors=6)\n",
        "#knn.fit(X_train,Y_train)"
      ],
      "execution_count": null,
      "outputs": []
    }
  ]
}